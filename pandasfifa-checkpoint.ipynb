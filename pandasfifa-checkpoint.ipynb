{
 "cells": [
  {
   "cell_type": "code",
   "execution_count": 33,
   "id": "539acba6-2f93-42b8-afb1-b5f57384352c",
   "metadata": {},
   "outputs": [],
   "source": [
    "import pandas as pd\n",
    "import matplotlib.pyplot as plt"
   ]
  },
  {
   "cell_type": "code",
   "execution_count": 2,
   "id": "1aff42e1-9722-4b6e-94bb-190d854d432b",
   "metadata": {},
   "outputs": [
    {
     "data": {
      "text/plain": [
       "['ArrowDtype',\n",
       " 'BooleanDtype',\n",
       " 'Categorical',\n",
       " 'CategoricalDtype',\n",
       " 'CategoricalIndex',\n",
       " 'DataFrame',\n",
       " 'DateOffset',\n",
       " 'DatetimeIndex',\n",
       " 'DatetimeTZDtype',\n",
       " 'ExcelFile',\n",
       " 'ExcelWriter',\n",
       " 'Flags',\n",
       " 'Float32Dtype',\n",
       " 'Float64Dtype',\n",
       " 'Float64Index',\n",
       " 'Grouper',\n",
       " 'HDFStore',\n",
       " 'Index',\n",
       " 'IndexSlice',\n",
       " 'Int16Dtype',\n",
       " 'Int32Dtype',\n",
       " 'Int64Dtype',\n",
       " 'Int64Index',\n",
       " 'Int8Dtype',\n",
       " 'Interval',\n",
       " 'IntervalDtype',\n",
       " 'IntervalIndex',\n",
       " 'MultiIndex',\n",
       " 'NA',\n",
       " 'NaT',\n",
       " 'NamedAgg',\n",
       " 'Period',\n",
       " 'PeriodDtype',\n",
       " 'PeriodIndex',\n",
       " 'RangeIndex',\n",
       " 'Series',\n",
       " 'SparseDtype',\n",
       " 'StringDtype',\n",
       " 'Timedelta',\n",
       " 'TimedeltaIndex',\n",
       " 'Timestamp',\n",
       " 'UInt16Dtype',\n",
       " 'UInt32Dtype',\n",
       " 'UInt64Dtype',\n",
       " 'UInt64Index',\n",
       " 'UInt8Dtype',\n",
       " '__all__',\n",
       " '__builtins__',\n",
       " '__cached__',\n",
       " '__deprecated_num_index_names',\n",
       " '__dir__',\n",
       " '__doc__',\n",
       " '__docformat__',\n",
       " '__file__',\n",
       " '__getattr__',\n",
       " '__git_version__',\n",
       " '__loader__',\n",
       " '__name__',\n",
       " '__package__',\n",
       " '__path__',\n",
       " '__spec__',\n",
       " '__version__',\n",
       " '_config',\n",
       " '_is_numpy_dev',\n",
       " '_libs',\n",
       " '_testing',\n",
       " '_typing',\n",
       " '_version',\n",
       " 'annotations',\n",
       " 'api',\n",
       " 'array',\n",
       " 'arrays',\n",
       " 'bdate_range',\n",
       " 'compat',\n",
       " 'concat',\n",
       " 'core',\n",
       " 'crosstab',\n",
       " 'cut',\n",
       " 'date_range',\n",
       " 'describe_option',\n",
       " 'errors',\n",
       " 'eval',\n",
       " 'factorize',\n",
       " 'from_dummies',\n",
       " 'get_dummies',\n",
       " 'get_option',\n",
       " 'infer_freq',\n",
       " 'interval_range',\n",
       " 'io',\n",
       " 'isna',\n",
       " 'isnull',\n",
       " 'json_normalize',\n",
       " 'lreshape',\n",
       " 'melt',\n",
       " 'merge',\n",
       " 'merge_asof',\n",
       " 'merge_ordered',\n",
       " 'notna',\n",
       " 'notnull',\n",
       " 'offsets',\n",
       " 'option_context',\n",
       " 'options',\n",
       " 'pandas',\n",
       " 'period_range',\n",
       " 'pivot',\n",
       " 'pivot_table',\n",
       " 'plotting',\n",
       " 'qcut',\n",
       " 'read_clipboard',\n",
       " 'read_csv',\n",
       " 'read_excel',\n",
       " 'read_feather',\n",
       " 'read_fwf',\n",
       " 'read_gbq',\n",
       " 'read_hdf',\n",
       " 'read_html',\n",
       " 'read_json',\n",
       " 'read_orc',\n",
       " 'read_parquet',\n",
       " 'read_pickle',\n",
       " 'read_sas',\n",
       " 'read_spss',\n",
       " 'read_sql',\n",
       " 'read_sql_query',\n",
       " 'read_sql_table',\n",
       " 'read_stata',\n",
       " 'read_table',\n",
       " 'read_xml',\n",
       " 'reset_option',\n",
       " 'set_eng_float_format',\n",
       " 'set_option',\n",
       " 'show_versions',\n",
       " 'test',\n",
       " 'testing',\n",
       " 'timedelta_range',\n",
       " 'to_datetime',\n",
       " 'to_numeric',\n",
       " 'to_pickle',\n",
       " 'to_timedelta',\n",
       " 'tseries',\n",
       " 'unique',\n",
       " 'util',\n",
       " 'value_counts',\n",
       " 'wide_to_long']"
      ]
     },
     "execution_count": 2,
     "metadata": {},
     "output_type": "execute_result"
    }
   ],
   "source": [
    "dir(pd)\n"
   ]
  },
  {
   "cell_type": "code",
   "execution_count": 3,
   "id": "18501a71-d893-4b0f-9fd6-34563f34a746",
   "metadata": {},
   "outputs": [],
   "source": [
    "fifa=pd.read_clipboard()"
   ]
  },
  {
   "cell_type": "code",
   "execution_count": 4,
   "id": "16e206cc-468f-49c7-9855-c78f4d62b1ef",
   "metadata": {},
   "outputs": [
    {
     "data": {
      "text/html": [
       "<div>\n",
       "<style scoped>\n",
       "    .dataframe tbody tr th:only-of-type {\n",
       "        vertical-align: middle;\n",
       "    }\n",
       "\n",
       "    .dataframe tbody tr th {\n",
       "        vertical-align: top;\n",
       "    }\n",
       "\n",
       "    .dataframe thead th {\n",
       "        text-align: right;\n",
       "    }\n",
       "</style>\n",
       "<table border=\"1\" class=\"dataframe\">\n",
       "  <thead>\n",
       "    <tr style=\"text-align: right;\">\n",
       "      <th></th>\n",
       "      <th>Rank</th>\n",
       "      <th>Team</th>\n",
       "      <th>Participations</th>\n",
       "      <th>Titles</th>\n",
       "      <th>Pld</th>\n",
       "      <th>W</th>\n",
       "      <th>D</th>\n",
       "      <th>L</th>\n",
       "      <th>GF</th>\n",
       "      <th>GA</th>\n",
       "      <th>GD</th>\n",
       "      <th>Pts</th>\n",
       "    </tr>\n",
       "  </thead>\n",
       "  <tbody>\n",
       "    <tr>\n",
       "      <th>0</th>\n",
       "      <td>1</td>\n",
       "      <td>Brazil</td>\n",
       "      <td>21</td>\n",
       "      <td>5</td>\n",
       "      <td>109</td>\n",
       "      <td>73</td>\n",
       "      <td>18</td>\n",
       "      <td>18</td>\n",
       "      <td>229</td>\n",
       "      <td>105</td>\n",
       "      <td>124</td>\n",
       "      <td>237</td>\n",
       "    </tr>\n",
       "    <tr>\n",
       "      <th>1</th>\n",
       "      <td>2</td>\n",
       "      <td>Germany[a]</td>\n",
       "      <td>19</td>\n",
       "      <td>4</td>\n",
       "      <td>109</td>\n",
       "      <td>67</td>\n",
       "      <td>20</td>\n",
       "      <td>22</td>\n",
       "      <td>226</td>\n",
       "      <td>125</td>\n",
       "      <td>101</td>\n",
       "      <td>221</td>\n",
       "    </tr>\n",
       "    <tr>\n",
       "      <th>2</th>\n",
       "      <td>3</td>\n",
       "      <td>Italy</td>\n",
       "      <td>18</td>\n",
       "      <td>4</td>\n",
       "      <td>83</td>\n",
       "      <td>45</td>\n",
       "      <td>21</td>\n",
       "      <td>17</td>\n",
       "      <td>128</td>\n",
       "      <td>77</td>\n",
       "      <td>51</td>\n",
       "      <td>156</td>\n",
       "    </tr>\n",
       "    <tr>\n",
       "      <th>3</th>\n",
       "      <td>4</td>\n",
       "      <td>Argentina</td>\n",
       "      <td>17</td>\n",
       "      <td>2</td>\n",
       "      <td>81</td>\n",
       "      <td>43</td>\n",
       "      <td>15</td>\n",
       "      <td>23</td>\n",
       "      <td>137</td>\n",
       "      <td>93</td>\n",
       "      <td>44</td>\n",
       "      <td>144</td>\n",
       "    </tr>\n",
       "    <tr>\n",
       "      <th>4</th>\n",
       "      <td>5</td>\n",
       "      <td>France</td>\n",
       "      <td>15</td>\n",
       "      <td>2</td>\n",
       "      <td>66</td>\n",
       "      <td>34</td>\n",
       "      <td>13</td>\n",
       "      <td>19</td>\n",
       "      <td>120</td>\n",
       "      <td>77</td>\n",
       "      <td>43</td>\n",
       "      <td>115</td>\n",
       "    </tr>\n",
       "    <tr>\n",
       "      <th>5</th>\n",
       "      <td>6</td>\n",
       "      <td>England</td>\n",
       "      <td>15</td>\n",
       "      <td>1</td>\n",
       "      <td>69</td>\n",
       "      <td>29</td>\n",
       "      <td>21</td>\n",
       "      <td>19</td>\n",
       "      <td>91</td>\n",
       "      <td>64</td>\n",
       "      <td>27</td>\n",
       "      <td>108</td>\n",
       "    </tr>\n",
       "    <tr>\n",
       "      <th>6</th>\n",
       "      <td>7</td>\n",
       "      <td>Spain</td>\n",
       "      <td>15</td>\n",
       "      <td>1</td>\n",
       "      <td>63</td>\n",
       "      <td>30</td>\n",
       "      <td>15</td>\n",
       "      <td>18</td>\n",
       "      <td>99</td>\n",
       "      <td>72</td>\n",
       "      <td>27</td>\n",
       "      <td>105</td>\n",
       "    </tr>\n",
       "    <tr>\n",
       "      <th>7</th>\n",
       "      <td>8</td>\n",
       "      <td>Uruguay</td>\n",
       "      <td>13</td>\n",
       "      <td>2</td>\n",
       "      <td>56</td>\n",
       "      <td>24</td>\n",
       "      <td>12</td>\n",
       "      <td>20</td>\n",
       "      <td>87</td>\n",
       "      <td>74</td>\n",
       "      <td>13</td>\n",
       "      <td>84</td>\n",
       "    </tr>\n",
       "  </tbody>\n",
       "</table>\n",
       "</div>"
      ],
      "text/plain": [
       "   Rank         Team  Participations  Titles  Pld   W   D   L   GF   GA   GD  \\\n",
       "0     1       Brazil              21       5  109  73  18  18  229  105  124   \n",
       "1     2   Germany[a]              19       4  109  67  20  22  226  125  101   \n",
       "2     3        Italy              18       4   83  45  21  17  128   77   51   \n",
       "3     4    Argentina              17       2   81  43  15  23  137   93   44   \n",
       "4     5       France              15       2   66  34  13  19  120   77   43   \n",
       "5     6      England              15       1   69  29  21  19   91   64   27   \n",
       "6     7        Spain              15       1   63  30  15  18   99   72   27   \n",
       "7     8      Uruguay              13       2   56  24  12  20   87   74   13   \n",
       "\n",
       "   Pts  \n",
       "0  237  \n",
       "1  221  \n",
       "2  156  \n",
       "3  144  \n",
       "4  115  \n",
       "5  108  \n",
       "6  105  \n",
       "7   84  "
      ]
     },
     "execution_count": 4,
     "metadata": {},
     "output_type": "execute_result"
    }
   ],
   "source": [
    "fifa"
   ]
  },
  {
   "cell_type": "code",
   "execution_count": 5,
   "id": "93e2cf0f-4a58-43c6-9cc0-025d105e4a05",
   "metadata": {},
   "outputs": [
    {
     "data": {
      "text/plain": [
       "<AxesSubplot: >"
      ]
     },
     "execution_count": 5,
     "metadata": {},
     "output_type": "execute_result"
    },
    {
     "data": {
      "image/png": "[encoded data removed]",
      "text/plain": [
       "<Figure size 640x480 with 1 Axes>"
      ]
     },
     "metadata": {},
     "output_type": "display_data"
    }
   ],
   "source": [
    "fifa.plot()"
   ]
  },
  {
   "cell_type": "code",
   "execution_count": 6,
   "id": "fea5459c-fde8-4a0a-ae91-756fbe019bf0",
   "metadata": {},
   "outputs": [
    {
     "data": {
      "text/html": [
       "<div>\n",
       "<style scoped>\n",
       "    .dataframe tbody tr th:only-of-type {\n",
       "        vertical-align: middle;\n",
       "    }\n",
       "\n",
       "    .dataframe tbody tr th {\n",
       "        vertical-align: top;\n",
       "    }\n",
       "\n",
       "    .dataframe thead th {\n",
       "        text-align: right;\n",
       "    }\n",
       "</style>\n",
       "<table border=\"1\" class=\"dataframe\">\n",
       "  <thead>\n",
       "    <tr style=\"text-align: right;\">\n",
       "      <th></th>\n",
       "      <th>Rank</th>\n",
       "      <th>Team</th>\n",
       "      <th>Participations</th>\n",
       "      <th>Titles</th>\n",
       "      <th>Pld</th>\n",
       "      <th>W</th>\n",
       "      <th>D</th>\n",
       "      <th>L</th>\n",
       "      <th>GF</th>\n",
       "      <th>GA</th>\n",
       "      <th>GD</th>\n",
       "      <th>Pts</th>\n",
       "    </tr>\n",
       "  </thead>\n",
       "  <tbody>\n",
       "    <tr>\n",
       "      <th>0</th>\n",
       "      <td>1</td>\n",
       "      <td>Brazil</td>\n",
       "      <td>21</td>\n",
       "      <td>5</td>\n",
       "      <td>109</td>\n",
       "      <td>73</td>\n",
       "      <td>18</td>\n",
       "      <td>18</td>\n",
       "      <td>229</td>\n",
       "      <td>105</td>\n",
       "      <td>124</td>\n",
       "      <td>237</td>\n",
       "    </tr>\n",
       "    <tr>\n",
       "      <th>1</th>\n",
       "      <td>2</td>\n",
       "      <td>Germany[a]</td>\n",
       "      <td>19</td>\n",
       "      <td>4</td>\n",
       "      <td>109</td>\n",
       "      <td>67</td>\n",
       "      <td>20</td>\n",
       "      <td>22</td>\n",
       "      <td>226</td>\n",
       "      <td>125</td>\n",
       "      <td>101</td>\n",
       "      <td>221</td>\n",
       "    </tr>\n",
       "    <tr>\n",
       "      <th>2</th>\n",
       "      <td>3</td>\n",
       "      <td>Italy</td>\n",
       "      <td>18</td>\n",
       "      <td>4</td>\n",
       "      <td>83</td>\n",
       "      <td>45</td>\n",
       "      <td>21</td>\n",
       "      <td>17</td>\n",
       "      <td>128</td>\n",
       "      <td>77</td>\n",
       "      <td>51</td>\n",
       "      <td>156</td>\n",
       "    </tr>\n",
       "    <tr>\n",
       "      <th>3</th>\n",
       "      <td>4</td>\n",
       "      <td>Argentina</td>\n",
       "      <td>17</td>\n",
       "      <td>2</td>\n",
       "      <td>81</td>\n",
       "      <td>43</td>\n",
       "      <td>15</td>\n",
       "      <td>23</td>\n",
       "      <td>137</td>\n",
       "      <td>93</td>\n",
       "      <td>44</td>\n",
       "      <td>144</td>\n",
       "    </tr>\n",
       "    <tr>\n",
       "      <th>4</th>\n",
       "      <td>5</td>\n",
       "      <td>France</td>\n",
       "      <td>15</td>\n",
       "      <td>2</td>\n",
       "      <td>66</td>\n",
       "      <td>34</td>\n",
       "      <td>13</td>\n",
       "      <td>19</td>\n",
       "      <td>120</td>\n",
       "      <td>77</td>\n",
       "      <td>43</td>\n",
       "      <td>115</td>\n",
       "    </tr>\n",
       "  </tbody>\n",
       "</table>\n",
       "</div>"
      ],
      "text/plain": [
       "   Rank         Team  Participations  Titles  Pld   W   D   L   GF   GA   GD  \\\n",
       "0     1       Brazil              21       5  109  73  18  18  229  105  124   \n",
       "1     2   Germany[a]              19       4  109  67  20  22  226  125  101   \n",
       "2     3        Italy              18       4   83  45  21  17  128   77   51   \n",
       "3     4    Argentina              17       2   81  43  15  23  137   93   44   \n",
       "4     5       France              15       2   66  34  13  19  120   77   43   \n",
       "\n",
       "   Pts  \n",
       "0  237  \n",
       "1  221  \n",
       "2  156  \n",
       "3  144  \n",
       "4  115  "
      ]
     },
     "execution_count": 6,
     "metadata": {},
     "output_type": "execute_result"
    }
   ],
   "source": [
    "fifa.head()"
   ]
  },
  {
   "cell_type": "code",
   "execution_count": 7,
   "id": "a923dceb-0ddc-4310-b9cd-7163e67bc63b",
   "metadata": {},
   "outputs": [
    {
     "data": {
      "text/html": [
       "<div>\n",
       "<style scoped>\n",
       "    .dataframe tbody tr th:only-of-type {\n",
       "        vertical-align: middle;\n",
       "    }\n",
       "\n",
       "    .dataframe tbody tr th {\n",
       "        vertical-align: top;\n",
       "    }\n",
       "\n",
       "    .dataframe thead th {\n",
       "        text-align: right;\n",
       "    }\n",
       "</style>\n",
       "<table border=\"1\" class=\"dataframe\">\n",
       "  <thead>\n",
       "    <tr style=\"text-align: right;\">\n",
       "      <th></th>\n",
       "      <th>Rank</th>\n",
       "      <th>Team</th>\n",
       "      <th>Participations</th>\n",
       "      <th>Titles</th>\n",
       "      <th>Pld</th>\n",
       "      <th>W</th>\n",
       "      <th>D</th>\n",
       "      <th>L</th>\n",
       "      <th>GF</th>\n",
       "      <th>GA</th>\n",
       "      <th>GD</th>\n",
       "      <th>Pts</th>\n",
       "    </tr>\n",
       "  </thead>\n",
       "  <tbody>\n",
       "    <tr>\n",
       "      <th>3</th>\n",
       "      <td>4</td>\n",
       "      <td>Argentina</td>\n",
       "      <td>17</td>\n",
       "      <td>2</td>\n",
       "      <td>81</td>\n",
       "      <td>43</td>\n",
       "      <td>15</td>\n",
       "      <td>23</td>\n",
       "      <td>137</td>\n",
       "      <td>93</td>\n",
       "      <td>44</td>\n",
       "      <td>144</td>\n",
       "    </tr>\n",
       "    <tr>\n",
       "      <th>4</th>\n",
       "      <td>5</td>\n",
       "      <td>France</td>\n",
       "      <td>15</td>\n",
       "      <td>2</td>\n",
       "      <td>66</td>\n",
       "      <td>34</td>\n",
       "      <td>13</td>\n",
       "      <td>19</td>\n",
       "      <td>120</td>\n",
       "      <td>77</td>\n",
       "      <td>43</td>\n",
       "      <td>115</td>\n",
       "    </tr>\n",
       "    <tr>\n",
       "      <th>5</th>\n",
       "      <td>6</td>\n",
       "      <td>England</td>\n",
       "      <td>15</td>\n",
       "      <td>1</td>\n",
       "      <td>69</td>\n",
       "      <td>29</td>\n",
       "      <td>21</td>\n",
       "      <td>19</td>\n",
       "      <td>91</td>\n",
       "      <td>64</td>\n",
       "      <td>27</td>\n",
       "      <td>108</td>\n",
       "    </tr>\n",
       "    <tr>\n",
       "      <th>6</th>\n",
       "      <td>7</td>\n",
       "      <td>Spain</td>\n",
       "      <td>15</td>\n",
       "      <td>1</td>\n",
       "      <td>63</td>\n",
       "      <td>30</td>\n",
       "      <td>15</td>\n",
       "      <td>18</td>\n",
       "      <td>99</td>\n",
       "      <td>72</td>\n",
       "      <td>27</td>\n",
       "      <td>105</td>\n",
       "    </tr>\n",
       "    <tr>\n",
       "      <th>7</th>\n",
       "      <td>8</td>\n",
       "      <td>Uruguay</td>\n",
       "      <td>13</td>\n",
       "      <td>2</td>\n",
       "      <td>56</td>\n",
       "      <td>24</td>\n",
       "      <td>12</td>\n",
       "      <td>20</td>\n",
       "      <td>87</td>\n",
       "      <td>74</td>\n",
       "      <td>13</td>\n",
       "      <td>84</td>\n",
       "    </tr>\n",
       "  </tbody>\n",
       "</table>\n",
       "</div>"
      ],
      "text/plain": [
       "   Rank        Team  Participations  Titles  Pld   W   D   L   GF  GA  GD  Pts\n",
       "3     4   Argentina              17       2   81  43  15  23  137  93  44  144\n",
       "4     5      France              15       2   66  34  13  19  120  77  43  115\n",
       "5     6     England              15       1   69  29  21  19   91  64  27  108\n",
       "6     7       Spain              15       1   63  30  15  18   99  72  27  105\n",
       "7     8     Uruguay              13       2   56  24  12  20   87  74  13   84"
      ]
     },
     "execution_count": 7,
     "metadata": {},
     "output_type": "execute_result"
    }
   ],
   "source": [
    "fifa.tail()"
   ]
  },
  {
   "cell_type": "code",
   "execution_count": 8,
   "id": "6a3d3095-fa0c-4b9a-bf6e-83cf0f86c602",
   "metadata": {},
   "outputs": [
    {
     "name": "stdout",
     "output_type": "stream",
     "text": [
      "<class 'pandas.core.frame.DataFrame'>\n",
      "RangeIndex: 8 entries, 0 to 7\n",
      "Data columns (total 12 columns):\n",
      " #   Column          Non-Null Count  Dtype \n",
      "---  ------          --------------  ----- \n",
      " 0   Rank            8 non-null      int64 \n",
      " 1   Team            8 non-null      object\n",
      " 2   Participations  8 non-null      int64 \n",
      " 3   Titles          8 non-null      int64 \n",
      " 4   Pld             8 non-null      int64 \n",
      " 5   W               8 non-null      int64 \n",
      " 6   D               8 non-null      int64 \n",
      " 7   L               8 non-null      int64 \n",
      " 8   GF              8 non-null      int64 \n",
      " 9   GA              8 non-null      int64 \n",
      " 10  GD              8 non-null      int64 \n",
      " 11  Pts             8 non-null      int64 \n",
      "dtypes: int64(11), object(1)\n",
      "memory usage: 896.0+ bytes\n"
     ]
    }
   ],
   "source": [
    "fifa.info()\n"
   ]
  },
  {
   "cell_type": "code",
   "execution_count": 9,
   "id": "fcf56f1e-4031-425b-afbc-24f4ed619d64",
   "metadata": {},
   "outputs": [
    {
     "data": {
      "text/html": [
       "<div>\n",
       "<style scoped>\n",
       "    .dataframe tbody tr th:only-of-type {\n",
       "        vertical-align: middle;\n",
       "    }\n",
       "\n",
       "    .dataframe tbody tr th {\n",
       "        vertical-align: top;\n",
       "    }\n",
       "\n",
       "    .dataframe thead th {\n",
       "        text-align: right;\n",
       "    }\n",
       "</style>\n",
       "<table border=\"1\" class=\"dataframe\">\n",
       "  <thead>\n",
       "    <tr style=\"text-align: right;\">\n",
       "      <th></th>\n",
       "      <th>Rank</th>\n",
       "      <th>Participations</th>\n",
       "      <th>Titles</th>\n",
       "      <th>Pld</th>\n",
       "      <th>W</th>\n",
       "      <th>D</th>\n",
       "      <th>L</th>\n",
       "      <th>GF</th>\n",
       "      <th>GA</th>\n",
       "      <th>GD</th>\n",
       "      <th>Pts</th>\n",
       "    </tr>\n",
       "  </thead>\n",
       "  <tbody>\n",
       "    <tr>\n",
       "      <th>count</th>\n",
       "      <td>8.00000</td>\n",
       "      <td>8.000000</td>\n",
       "      <td>8.000000</td>\n",
       "      <td>8.000000</td>\n",
       "      <td>8.000000</td>\n",
       "      <td>8.000000</td>\n",
       "      <td>8.000000</td>\n",
       "      <td>8.000000</td>\n",
       "      <td>8.000000</td>\n",
       "      <td>8.000000</td>\n",
       "      <td>8.000000</td>\n",
       "    </tr>\n",
       "    <tr>\n",
       "      <th>mean</th>\n",
       "      <td>4.50000</td>\n",
       "      <td>16.625000</td>\n",
       "      <td>2.625000</td>\n",
       "      <td>79.500000</td>\n",
       "      <td>43.125000</td>\n",
       "      <td>16.875000</td>\n",
       "      <td>19.500000</td>\n",
       "      <td>139.625000</td>\n",
       "      <td>85.875000</td>\n",
       "      <td>53.750000</td>\n",
       "      <td>146.250000</td>\n",
       "    </tr>\n",
       "    <tr>\n",
       "      <th>std</th>\n",
       "      <td>2.44949</td>\n",
       "      <td>2.615203</td>\n",
       "      <td>1.505941</td>\n",
       "      <td>20.255511</td>\n",
       "      <td>18.074746</td>\n",
       "      <td>3.603074</td>\n",
       "      <td>2.070197</td>\n",
       "      <td>57.021143</td>\n",
       "      <td>20.413144</td>\n",
       "      <td>38.688315</td>\n",
       "      <td>55.984054</td>\n",
       "    </tr>\n",
       "    <tr>\n",
       "      <th>min</th>\n",
       "      <td>1.00000</td>\n",
       "      <td>13.000000</td>\n",
       "      <td>1.000000</td>\n",
       "      <td>56.000000</td>\n",
       "      <td>24.000000</td>\n",
       "      <td>12.000000</td>\n",
       "      <td>17.000000</td>\n",
       "      <td>87.000000</td>\n",
       "      <td>64.000000</td>\n",
       "      <td>13.000000</td>\n",
       "      <td>84.000000</td>\n",
       "    </tr>\n",
       "    <tr>\n",
       "      <th>25%</th>\n",
       "      <td>2.75000</td>\n",
       "      <td>15.000000</td>\n",
       "      <td>1.750000</td>\n",
       "      <td>65.250000</td>\n",
       "      <td>29.750000</td>\n",
       "      <td>14.500000</td>\n",
       "      <td>18.000000</td>\n",
       "      <td>97.000000</td>\n",
       "      <td>73.500000</td>\n",
       "      <td>27.000000</td>\n",
       "      <td>107.250000</td>\n",
       "    </tr>\n",
       "    <tr>\n",
       "      <th>50%</th>\n",
       "      <td>4.50000</td>\n",
       "      <td>16.000000</td>\n",
       "      <td>2.000000</td>\n",
       "      <td>75.000000</td>\n",
       "      <td>38.500000</td>\n",
       "      <td>16.500000</td>\n",
       "      <td>19.000000</td>\n",
       "      <td>124.000000</td>\n",
       "      <td>77.000000</td>\n",
       "      <td>43.500000</td>\n",
       "      <td>129.500000</td>\n",
       "    </tr>\n",
       "    <tr>\n",
       "      <th>75%</th>\n",
       "      <td>6.25000</td>\n",
       "      <td>18.250000</td>\n",
       "      <td>4.000000</td>\n",
       "      <td>89.500000</td>\n",
       "      <td>50.500000</td>\n",
       "      <td>20.250000</td>\n",
       "      <td>20.500000</td>\n",
       "      <td>159.250000</td>\n",
       "      <td>96.000000</td>\n",
       "      <td>63.500000</td>\n",
       "      <td>172.250000</td>\n",
       "    </tr>\n",
       "    <tr>\n",
       "      <th>max</th>\n",
       "      <td>8.00000</td>\n",
       "      <td>21.000000</td>\n",
       "      <td>5.000000</td>\n",
       "      <td>109.000000</td>\n",
       "      <td>73.000000</td>\n",
       "      <td>21.000000</td>\n",
       "      <td>23.000000</td>\n",
       "      <td>229.000000</td>\n",
       "      <td>125.000000</td>\n",
       "      <td>124.000000</td>\n",
       "      <td>237.000000</td>\n",
       "    </tr>\n",
       "  </tbody>\n",
       "</table>\n",
       "</div>"
      ],
      "text/plain": [
       "          Rank  Participations    Titles         Pld          W          D  \\\n",
       "count  8.00000        8.000000  8.000000    8.000000   8.000000   8.000000   \n",
       "mean   4.50000       16.625000  2.625000   79.500000  43.125000  16.875000   \n",
       "std    2.44949        2.615203  1.505941   20.255511  18.074746   3.603074   \n",
       "min    1.00000       13.000000  1.000000   56.000000  24.000000  12.000000   \n",
       "25%    2.75000       15.000000  1.750000   65.250000  29.750000  14.500000   \n",
       "50%    4.50000       16.000000  2.000000   75.000000  38.500000  16.500000   \n",
       "75%    6.25000       18.250000  4.000000   89.500000  50.500000  20.250000   \n",
       "max    8.00000       21.000000  5.000000  109.000000  73.000000  21.000000   \n",
       "\n",
       "               L          GF          GA          GD         Pts  \n",
       "count   8.000000    8.000000    8.000000    8.000000    8.000000  \n",
       "mean   19.500000  139.625000   85.875000   53.750000  146.250000  \n",
       "std     2.070197   57.021143   20.413144   38.688315   55.984054  \n",
       "min    17.000000   87.000000   64.000000   13.000000   84.000000  \n",
       "25%    18.000000   97.000000   73.500000   27.000000  107.250000  \n",
       "50%    19.000000  124.000000   77.000000   43.500000  129.500000  \n",
       "75%    20.500000  159.250000   96.000000   63.500000  172.250000  \n",
       "max    23.000000  229.000000  125.000000  124.000000  237.000000  "
      ]
     },
     "execution_count": 9,
     "metadata": {},
     "output_type": "execute_result"
    }
   ],
   "source": [
    "fifa.describe()"
   ]
  },
  {
   "cell_type": "code",
   "execution_count": 10,
   "id": "553bffce-ef7b-4fa5-b27b-388e620b6a9c",
   "metadata": {},
   "outputs": [
    {
     "data": {
      "text/plain": [
       "0    5\n",
       "1    4\n",
       "2    4\n",
       "3    2\n",
       "4    2\n",
       "5    1\n",
       "6    1\n",
       "7    2\n",
       "Name: Titles, dtype: int64"
      ]
     },
     "execution_count": 10,
     "metadata": {},
     "output_type": "execute_result"
    }
   ],
   "source": [
    "fifa['Titles']"
   ]
  },
  {
   "cell_type": "code",
   "execution_count": 11,
   "id": "f7707fee-ec1d-4078-91cb-88133bb705df",
   "metadata": {},
   "outputs": [
    {
     "data": {
      "text/plain": [
       "5"
      ]
     },
     "execution_count": 11,
     "metadata": {},
     "output_type": "execute_result"
    }
   ],
   "source": [
    "max(fifa['Titles'])"
   ]
  },
  {
   "cell_type": "code",
   "execution_count": 12,
   "id": "5e05b4d0-95ff-4022-af07-2598183a2599",
   "metadata": {},
   "outputs": [
    {
     "data": {
      "text/plain": [
       "1"
      ]
     },
     "execution_count": 12,
     "metadata": {},
     "output_type": "execute_result"
    }
   ],
   "source": [
    "min(fifa['Titles'])"
   ]
  },
  {
   "cell_type": "code",
   "execution_count": 13,
   "id": "90b4e6e6-439b-49a3-b6b2-4c2cfafdd4e1",
   "metadata": {},
   "outputs": [
    {
     "data": {
      "text/plain": [
       "<AxesSubplot: >"
      ]
     },
     "execution_count": 13,
     "metadata": {},
     "output_type": "execute_result"
    },
    {
     "data": {
      "image/png": "[encoded data removed]",
      "text/plain": [
       "<Figure size 640x480 with 1 Axes>"
      ]
     },
     "metadata": {},
     "output_type": "display_data"
    }
   ],
   "source": [
    "fifa['Titles'].plot()"
   ]
  },
  {
   "cell_type": "code",
   "execution_count": 14,
   "id": "6eb57b9e-406b-46e8-8fac-6812f1fca2c8",
   "metadata": {},
   "outputs": [
    {
     "data": {
      "text/plain": [
       "<AxesSubplot: >"
      ]
     },
     "execution_count": 14,
     "metadata": {},
     "output_type": "execute_result"
    },
    {
     "data": {
      "image/png": "[encoded data removed]",
      "text/plain": [
       "<Figure size 640x480 with 1 Axes>"
      ]
     },
     "metadata": {},
     "output_type": "display_data"
    }
   ],
   "source": [
    "fifa['Titles'].plot(kind=\"bar\")"
   ]
  },
  {
   "cell_type": "code",
   "execution_count": 16,
   "id": "b8ed83a9-1dcb-47c9-a19d-d19df959327d",
   "metadata": {},
   "outputs": [
    {
     "data": {
      "text/plain": [
       "<AxesSubplot: >"
      ]
     },
     "execution_count": 16,
     "metadata": {},
     "output_type": "execute_result"
    },
    {
     "data": {
      "image/png": "[encoded data removed]",
      "text/plain": [
       "<Figure size 640x480 with 1 Axes>"
      ]
     },
     "metadata": {},
     "output_type": "display_data"
    }
   ],
   "source": [
    "fifa[['Titles','Team']].plot()"
   ]
  },
  {
   "cell_type": "code",
   "execution_count": 20,
   "id": "41d65ae5-97e4-476e-97ec-ebab64d6617d",
   "metadata": {},
   "outputs": [
    {
     "data": {
      "text/plain": [
       "<AxesSubplot: >"
      ]
     },
     "execution_count": 20,
     "metadata": {},
     "output_type": "execute_result"
    },
    {
     "data": {
      "image/png": "[encoded data removed]",
      "text/plain": [
       "<Figure size 640x480 with 1 Axes>"
      ]
     },
     "metadata": {},
     "output_type": "display_data"
    }
   ],
   "source": [
    "fifa[['Titles','Team']].plot(kind=\"bar\")"
   ]
  },
  {
   "cell_type": "code",
   "execution_count": 21,
   "id": "6ca0894a-97ef-42a5-a34c-7f8fb9be4334",
   "metadata": {},
   "outputs": [
    {
     "data": {
      "text/html": [
       "<div>\n",
       "<style scoped>\n",
       "    .dataframe tbody tr th:only-of-type {\n",
       "        vertical-align: middle;\n",
       "    }\n",
       "\n",
       "    .dataframe tbody tr th {\n",
       "        vertical-align: top;\n",
       "    }\n",
       "\n",
       "    .dataframe thead th {\n",
       "        text-align: right;\n",
       "    }\n",
       "</style>\n",
       "<table border=\"1\" class=\"dataframe\">\n",
       "  <thead>\n",
       "    <tr style=\"text-align: right;\">\n",
       "      <th></th>\n",
       "      <th>Rank</th>\n",
       "      <th>Team</th>\n",
       "      <th>Participations</th>\n",
       "      <th>Titles</th>\n",
       "      <th>Pld</th>\n",
       "      <th>W</th>\n",
       "      <th>D</th>\n",
       "      <th>L</th>\n",
       "      <th>GF</th>\n",
       "      <th>GA</th>\n",
       "      <th>GD</th>\n",
       "      <th>Pts</th>\n",
       "    </tr>\n",
       "  </thead>\n",
       "  <tbody>\n",
       "    <tr>\n",
       "      <th>0</th>\n",
       "      <td>1</td>\n",
       "      <td>Brazil</td>\n",
       "      <td>21</td>\n",
       "      <td>5</td>\n",
       "      <td>109</td>\n",
       "      <td>73</td>\n",
       "      <td>18</td>\n",
       "      <td>18</td>\n",
       "      <td>229</td>\n",
       "      <td>105</td>\n",
       "      <td>124</td>\n",
       "      <td>237</td>\n",
       "    </tr>\n",
       "    <tr>\n",
       "      <th>1</th>\n",
       "      <td>2</td>\n",
       "      <td>Germany[a]</td>\n",
       "      <td>19</td>\n",
       "      <td>4</td>\n",
       "      <td>109</td>\n",
       "      <td>67</td>\n",
       "      <td>20</td>\n",
       "      <td>22</td>\n",
       "      <td>226</td>\n",
       "      <td>125</td>\n",
       "      <td>101</td>\n",
       "      <td>221</td>\n",
       "    </tr>\n",
       "    <tr>\n",
       "      <th>2</th>\n",
       "      <td>3</td>\n",
       "      <td>Italy</td>\n",
       "      <td>18</td>\n",
       "      <td>4</td>\n",
       "      <td>83</td>\n",
       "      <td>45</td>\n",
       "      <td>21</td>\n",
       "      <td>17</td>\n",
       "      <td>128</td>\n",
       "      <td>77</td>\n",
       "      <td>51</td>\n",
       "      <td>156</td>\n",
       "    </tr>\n",
       "    <tr>\n",
       "      <th>3</th>\n",
       "      <td>4</td>\n",
       "      <td>Argentina</td>\n",
       "      <td>17</td>\n",
       "      <td>2</td>\n",
       "      <td>81</td>\n",
       "      <td>43</td>\n",
       "      <td>15</td>\n",
       "      <td>23</td>\n",
       "      <td>137</td>\n",
       "      <td>93</td>\n",
       "      <td>44</td>\n",
       "      <td>144</td>\n",
       "    </tr>\n",
       "    <tr>\n",
       "      <th>4</th>\n",
       "      <td>5</td>\n",
       "      <td>France</td>\n",
       "      <td>15</td>\n",
       "      <td>2</td>\n",
       "      <td>66</td>\n",
       "      <td>34</td>\n",
       "      <td>13</td>\n",
       "      <td>19</td>\n",
       "      <td>120</td>\n",
       "      <td>77</td>\n",
       "      <td>43</td>\n",
       "      <td>115</td>\n",
       "    </tr>\n",
       "    <tr>\n",
       "      <th>5</th>\n",
       "      <td>6</td>\n",
       "      <td>England</td>\n",
       "      <td>15</td>\n",
       "      <td>1</td>\n",
       "      <td>69</td>\n",
       "      <td>29</td>\n",
       "      <td>21</td>\n",
       "      <td>19</td>\n",
       "      <td>91</td>\n",
       "      <td>64</td>\n",
       "      <td>27</td>\n",
       "      <td>108</td>\n",
       "    </tr>\n",
       "    <tr>\n",
       "      <th>6</th>\n",
       "      <td>7</td>\n",
       "      <td>Spain</td>\n",
       "      <td>15</td>\n",
       "      <td>1</td>\n",
       "      <td>63</td>\n",
       "      <td>30</td>\n",
       "      <td>15</td>\n",
       "      <td>18</td>\n",
       "      <td>99</td>\n",
       "      <td>72</td>\n",
       "      <td>27</td>\n",
       "      <td>105</td>\n",
       "    </tr>\n",
       "    <tr>\n",
       "      <th>7</th>\n",
       "      <td>8</td>\n",
       "      <td>Uruguay</td>\n",
       "      <td>13</td>\n",
       "      <td>2</td>\n",
       "      <td>56</td>\n",
       "      <td>24</td>\n",
       "      <td>12</td>\n",
       "      <td>20</td>\n",
       "      <td>87</td>\n",
       "      <td>74</td>\n",
       "      <td>13</td>\n",
       "      <td>84</td>\n",
       "    </tr>\n",
       "  </tbody>\n",
       "</table>\n",
       "</div>"
      ],
      "text/plain": [
       "   Rank         Team  Participations  Titles  Pld   W   D   L   GF   GA   GD  \\\n",
       "0     1       Brazil              21       5  109  73  18  18  229  105  124   \n",
       "1     2   Germany[a]              19       4  109  67  20  22  226  125  101   \n",
       "2     3        Italy              18       4   83  45  21  17  128   77   51   \n",
       "3     4    Argentina              17       2   81  43  15  23  137   93   44   \n",
       "4     5       France              15       2   66  34  13  19  120   77   43   \n",
       "5     6      England              15       1   69  29  21  19   91   64   27   \n",
       "6     7        Spain              15       1   63  30  15  18   99   72   27   \n",
       "7     8      Uruguay              13       2   56  24  12  20   87   74   13   \n",
       "\n",
       "   Pts  \n",
       "0  237  \n",
       "1  221  \n",
       "2  156  \n",
       "3  144  \n",
       "4  115  \n",
       "5  108  \n",
       "6  105  \n",
       "7   84  "
      ]
     },
     "execution_count": 21,
     "metadata": {},
     "output_type": "execute_result"
    }
   ],
   "source": [
    "fifa[fifa['W']>4]\n"
   ]
  },
  {
   "cell_type": "code",
   "execution_count": 23,
   "id": "2999a3df-894b-4916-bf96-f07bf78fbb65",
   "metadata": {},
   "outputs": [
    {
     "data": {
      "text/html": [
       "<div>\n",
       "<style scoped>\n",
       "    .dataframe tbody tr th:only-of-type {\n",
       "        vertical-align: middle;\n",
       "    }\n",
       "\n",
       "    .dataframe tbody tr th {\n",
       "        vertical-align: top;\n",
       "    }\n",
       "\n",
       "    .dataframe thead th {\n",
       "        text-align: right;\n",
       "    }\n",
       "</style>\n",
       "<table border=\"1\" class=\"dataframe\">\n",
       "  <thead>\n",
       "    <tr style=\"text-align: right;\">\n",
       "      <th></th>\n",
       "      <th>Rank</th>\n",
       "      <th>Team</th>\n",
       "      <th>Participations</th>\n",
       "      <th>Titles</th>\n",
       "      <th>Pld</th>\n",
       "      <th>W</th>\n",
       "      <th>D</th>\n",
       "      <th>L</th>\n",
       "      <th>GF</th>\n",
       "      <th>GA</th>\n",
       "      <th>GD</th>\n",
       "      <th>Pts</th>\n",
       "    </tr>\n",
       "  </thead>\n",
       "  <tbody>\n",
       "    <tr>\n",
       "      <th>3</th>\n",
       "      <td>4</td>\n",
       "      <td>Argentina</td>\n",
       "      <td>17</td>\n",
       "      <td>2</td>\n",
       "      <td>81</td>\n",
       "      <td>43</td>\n",
       "      <td>15</td>\n",
       "      <td>23</td>\n",
       "      <td>137</td>\n",
       "      <td>93</td>\n",
       "      <td>44</td>\n",
       "      <td>144</td>\n",
       "    </tr>\n",
       "    <tr>\n",
       "      <th>4</th>\n",
       "      <td>5</td>\n",
       "      <td>France</td>\n",
       "      <td>15</td>\n",
       "      <td>2</td>\n",
       "      <td>66</td>\n",
       "      <td>34</td>\n",
       "      <td>13</td>\n",
       "      <td>19</td>\n",
       "      <td>120</td>\n",
       "      <td>77</td>\n",
       "      <td>43</td>\n",
       "      <td>115</td>\n",
       "    </tr>\n",
       "    <tr>\n",
       "      <th>5</th>\n",
       "      <td>6</td>\n",
       "      <td>England</td>\n",
       "      <td>15</td>\n",
       "      <td>1</td>\n",
       "      <td>69</td>\n",
       "      <td>29</td>\n",
       "      <td>21</td>\n",
       "      <td>19</td>\n",
       "      <td>91</td>\n",
       "      <td>64</td>\n",
       "      <td>27</td>\n",
       "      <td>108</td>\n",
       "    </tr>\n",
       "    <tr>\n",
       "      <th>6</th>\n",
       "      <td>7</td>\n",
       "      <td>Spain</td>\n",
       "      <td>15</td>\n",
       "      <td>1</td>\n",
       "      <td>63</td>\n",
       "      <td>30</td>\n",
       "      <td>15</td>\n",
       "      <td>18</td>\n",
       "      <td>99</td>\n",
       "      <td>72</td>\n",
       "      <td>27</td>\n",
       "      <td>105</td>\n",
       "    </tr>\n",
       "    <tr>\n",
       "      <th>7</th>\n",
       "      <td>8</td>\n",
       "      <td>Uruguay</td>\n",
       "      <td>13</td>\n",
       "      <td>2</td>\n",
       "      <td>56</td>\n",
       "      <td>24</td>\n",
       "      <td>12</td>\n",
       "      <td>20</td>\n",
       "      <td>87</td>\n",
       "      <td>74</td>\n",
       "      <td>13</td>\n",
       "      <td>84</td>\n",
       "    </tr>\n",
       "  </tbody>\n",
       "</table>\n",
       "</div>"
      ],
      "text/plain": [
       "   Rank        Team  Participations  Titles  Pld   W   D   L   GF  GA  GD  Pts\n",
       "3     4   Argentina              17       2   81  43  15  23  137  93  44  144\n",
       "4     5      France              15       2   66  34  13  19  120  77  43  115\n",
       "5     6     England              15       1   69  29  21  19   91  64  27  108\n",
       "6     7       Spain              15       1   63  30  15  18   99  72  27  105\n",
       "7     8     Uruguay              13       2   56  24  12  20   87  74  13   84"
      ]
     },
     "execution_count": 23,
     "metadata": {},
     "output_type": "execute_result"
    }
   ],
   "source": [
    "fifa[fifa['Titles']<4]\n"
   ]
  },
  {
   "cell_type": "code",
   "execution_count": 24,
   "id": "b8e8a85d-d00f-400a-91d3-a32e4d92eb2b",
   "metadata": {},
   "outputs": [
    {
     "data": {
      "text/plain": [
       "3     Argentina\n",
       "4        France\n",
       "5       England\n",
       "6         Spain\n",
       "7       Uruguay\n",
       "Name: Team, dtype: object"
      ]
     },
     "execution_count": 24,
     "metadata": {},
     "output_type": "execute_result"
    }
   ],
   "source": [
    "fifa[fifa['Titles']<4]['Team']\n"
   ]
  },
  {
   "cell_type": "code",
   "execution_count": 24,
   "id": "042f6d52-d74d-456a-971b-a0982dc56911",
   "metadata": {},
   "outputs": [
    {
     "data": {
      "text/plain": [
       "3     Argentina\n",
       "4        France\n",
       "5       England\n",
       "6         Spain\n",
       "7       Uruguay\n",
       "Name: Team, dtype: object"
      ]
     },
     "execution_count": 24,
     "metadata": {},
     "output_type": "execute_result"
    }
   ],
   "source": [
    "fifa[fifa['Titles']<4]['Team']"
   ]
  },
  {
   "cell_type": "code",
   "execution_count": 25,
   "id": "c1ace9ef-3c0e-44c9-8b35-596ccbedc21f",
   "metadata": {},
   "outputs": [
    {
     "data": {
      "text/html": [
       "<div>\n",
       "<style scoped>\n",
       "    .dataframe tbody tr th:only-of-type {\n",
       "        vertical-align: middle;\n",
       "    }\n",
       "\n",
       "    .dataframe tbody tr th {\n",
       "        vertical-align: top;\n",
       "    }\n",
       "\n",
       "    .dataframe thead th {\n",
       "        text-align: right;\n",
       "    }\n",
       "</style>\n",
       "<table border=\"1\" class=\"dataframe\">\n",
       "  <thead>\n",
       "    <tr style=\"text-align: right;\">\n",
       "      <th></th>\n",
       "      <th>Team</th>\n",
       "      <th>Titles</th>\n",
       "    </tr>\n",
       "  </thead>\n",
       "  <tbody>\n",
       "    <tr>\n",
       "      <th>3</th>\n",
       "      <td>Argentina</td>\n",
       "      <td>2</td>\n",
       "    </tr>\n",
       "    <tr>\n",
       "      <th>4</th>\n",
       "      <td>France</td>\n",
       "      <td>2</td>\n",
       "    </tr>\n",
       "    <tr>\n",
       "      <th>5</th>\n",
       "      <td>England</td>\n",
       "      <td>1</td>\n",
       "    </tr>\n",
       "    <tr>\n",
       "      <th>6</th>\n",
       "      <td>Spain</td>\n",
       "      <td>1</td>\n",
       "    </tr>\n",
       "    <tr>\n",
       "      <th>7</th>\n",
       "      <td>Uruguay</td>\n",
       "      <td>2</td>\n",
       "    </tr>\n",
       "  </tbody>\n",
       "</table>\n",
       "</div>"
      ],
      "text/plain": [
       "         Team  Titles\n",
       "3   Argentina       2\n",
       "4      France       2\n",
       "5     England       1\n",
       "6       Spain       1\n",
       "7     Uruguay       2"
      ]
     },
     "execution_count": 25,
     "metadata": {},
     "output_type": "execute_result"
    }
   ],
   "source": [
    "fifa[fifa['Titles']<4][['Team','Titles']]"
   ]
  },
  {
   "cell_type": "code",
   "execution_count": 26,
   "id": "5d5b5fd3-8857-4744-a91d-ca3c2519e762",
   "metadata": {},
   "outputs": [
    {
     "data": {
      "text/plain": [
       "<AxesSubplot: >"
      ]
     },
     "execution_count": 26,
     "metadata": {},
     "output_type": "execute_result"
    },
    {
     "data": {
      "image/png": "[encoded data removed]",
      "text/plain": [
       "<Figure size 640x480 with 1 Axes>"
      ]
     },
     "metadata": {},
     "output_type": "display_data"
    }
   ],
   "source": [
    "fifa[fifa['Titles']<4][['Team','Titles']].plot()"
   ]
  },
  {
   "cell_type": "code",
   "execution_count": 27,
   "id": "f46a05fa-8a60-4854-9bf7-598c7a163c09",
   "metadata": {},
   "outputs": [
    {
     "data": {
      "text/plain": [
       "<AxesSubplot: >"
      ]
     },
     "execution_count": 27,
     "metadata": {},
     "output_type": "execute_result"
    },
    {
     "data": {
      "image/png": "[encoded data removed]",
      "text/plain": [
       "<Figure size 640x480 with 1 Axes>"
      ]
     },
     "metadata": {},
     "output_type": "display_data"
    }
   ],
   "source": [
    "fifa[fifa['Titles']<4][['Team','Titles']].plot(kind='bar')"
   ]
  },
  {
   "cell_type": "code",
   "execution_count": 28,
   "id": "b6eb3531-10f2-47df-a43b-70efa8e08930",
   "metadata": {},
   "outputs": [
    {
     "data": {
      "text/plain": [
       "<AxesSubplot: xlabel='Team'>"
      ]
     },
     "execution_count": 28,
     "metadata": {},
     "output_type": "execute_result"
    },
    {
     "data": {
      "image/png": "[encoded data removed]",
      "text/plain": [
       "<Figure size 640x480 with 1 Axes>"
      ]
     },
     "metadata": {},
     "output_type": "display_data"
    }
   ],
   "source": [
    "fifa[fifa['Titles']<4][['Team','Titles']].set_index('Team').plot(kind='bar')"
   ]
  },
  {
   "cell_type": "code",
   "execution_count": 31,
   "id": "7a90979e-77e5-42ac-aa46-0b144a0acb0c",
   "metadata": {},
   "outputs": [
    {
     "data": {
      "text/plain": [
       "<AxesSubplot: xlabel='Team'>"
      ]
     },
     "execution_count": 31,
     "metadata": {},
     "output_type": "execute_result"
    },
    {
     "data": {
      "image/png": "[encoded data removed]",
      "text/plain": [
       "<Figure size 640x480 with 1 Axes>"
      ]
     },
     "metadata": {},
     "output_type": "display_data"
    }
   ],
   "source": [
    "fifa[fifa['Titles']<4][['Team','Titles']].set_index('Team').plot(kind='bar',legend=True)\n"
   ]
  },
  {
   "cell_type": "code",
   "execution_count": 34,
   "id": "bef49599-feca-4ee4-b640-d7b67cfb62ac",
   "metadata": {},
   "outputs": [
    {
     "data": {
      "text/plain": [
       "Text(0.5, 1.0, 'Teams that have won less than four times')"
      ]
     },
     "execution_count": 34,
     "metadata": {},
     "output_type": "execute_result"
    },
    {
     "data": {
      "image/png": "[encoded data removed]",
      "text/plain": [
       "<Figure size 640x480 with 1 Axes>"
      ]
     },
     "metadata": {},
     "output_type": "display_data"
    }
   ],
   "source": [
    "fifa[fifa['Titles']<4][['Team','Titles']].set_index('Team').plot(kind='bar',legend=True)\n",
    "plt.title(\"Teams that have won less than four times\")\n"
   ]
  },
  {
   "cell_type": "code",
   "execution_count": 35,
   "id": "63c805af-b56c-4830-90a1-1f89bfc13cfb",
   "metadata": {},
   "outputs": [
    {
     "data": {
      "text/plain": [
       "Text(0, 0.5, 'No of times won')"
      ]
     },
     "execution_count": 35,
     "metadata": {},
     "output_type": "execute_result"
    },
    {
     "data": {
      "image/png": "[encoded data removed]",
      "text/plain": [
       "<Figure size 640x480 with 1 Axes>"
      ]
     },
     "metadata": {},
     "output_type": "display_data"
    }
   ],
   "source": [
    "fifa[fifa['Titles']<4][['Team','Titles']].set_index('Team').plot(kind='bar',legend=True)\n",
    "plt.title(\"Teams that have won less than four times\")\n",
    "plt.xlabel(\"Name of teams\")\n",
    "plt.ylabel(\"No of times won\")\n"
   ]
  },
  {
   "cell_type": "code",
   "execution_count": 36,
   "id": "a64b3971-184f-4a8e-854d-ba8b3d8c32fe",
   "metadata": {},
   "outputs": [
    {
     "data": {
      "text/html": [
       "<div>\n",
       "<style scoped>\n",
       "    .dataframe tbody tr th:only-of-type {\n",
       "        vertical-align: middle;\n",
       "    }\n",
       "\n",
       "    .dataframe tbody tr th {\n",
       "        vertical-align: top;\n",
       "    }\n",
       "\n",
       "    .dataframe thead th {\n",
       "        text-align: right;\n",
       "    }\n",
       "</style>\n",
       "<table border=\"1\" class=\"dataframe\">\n",
       "  <thead>\n",
       "    <tr style=\"text-align: right;\">\n",
       "      <th></th>\n",
       "      <th>Rank</th>\n",
       "      <th>Team</th>\n",
       "      <th>Participations</th>\n",
       "      <th>Titles</th>\n",
       "      <th>Pld</th>\n",
       "      <th>W</th>\n",
       "      <th>D</th>\n",
       "      <th>L</th>\n",
       "      <th>GF</th>\n",
       "      <th>GA</th>\n",
       "      <th>GD</th>\n",
       "      <th>Pts</th>\n",
       "    </tr>\n",
       "  </thead>\n",
       "  <tbody>\n",
       "    <tr>\n",
       "      <th>0</th>\n",
       "      <td>1</td>\n",
       "      <td>Brazil</td>\n",
       "      <td>21</td>\n",
       "      <td>5</td>\n",
       "      <td>109</td>\n",
       "      <td>73</td>\n",
       "      <td>18</td>\n",
       "      <td>18</td>\n",
       "      <td>229</td>\n",
       "      <td>105</td>\n",
       "      <td>124</td>\n",
       "      <td>237</td>\n",
       "    </tr>\n",
       "    <tr>\n",
       "      <th>1</th>\n",
       "      <td>2</td>\n",
       "      <td>Germany[a]</td>\n",
       "      <td>19</td>\n",
       "      <td>4</td>\n",
       "      <td>109</td>\n",
       "      <td>67</td>\n",
       "      <td>20</td>\n",
       "      <td>22</td>\n",
       "      <td>226</td>\n",
       "      <td>125</td>\n",
       "      <td>101</td>\n",
       "      <td>221</td>\n",
       "    </tr>\n",
       "    <tr>\n",
       "      <th>2</th>\n",
       "      <td>3</td>\n",
       "      <td>Italy</td>\n",
       "      <td>18</td>\n",
       "      <td>4</td>\n",
       "      <td>83</td>\n",
       "      <td>45</td>\n",
       "      <td>21</td>\n",
       "      <td>17</td>\n",
       "      <td>128</td>\n",
       "      <td>77</td>\n",
       "      <td>51</td>\n",
       "      <td>156</td>\n",
       "    </tr>\n",
       "    <tr>\n",
       "      <th>3</th>\n",
       "      <td>4</td>\n",
       "      <td>Argentina</td>\n",
       "      <td>17</td>\n",
       "      <td>2</td>\n",
       "      <td>81</td>\n",
       "      <td>43</td>\n",
       "      <td>15</td>\n",
       "      <td>23</td>\n",
       "      <td>137</td>\n",
       "      <td>93</td>\n",
       "      <td>44</td>\n",
       "      <td>144</td>\n",
       "    </tr>\n",
       "    <tr>\n",
       "      <th>4</th>\n",
       "      <td>5</td>\n",
       "      <td>France</td>\n",
       "      <td>15</td>\n",
       "      <td>2</td>\n",
       "      <td>66</td>\n",
       "      <td>34</td>\n",
       "      <td>13</td>\n",
       "      <td>19</td>\n",
       "      <td>120</td>\n",
       "      <td>77</td>\n",
       "      <td>43</td>\n",
       "      <td>115</td>\n",
       "    </tr>\n",
       "    <tr>\n",
       "      <th>5</th>\n",
       "      <td>6</td>\n",
       "      <td>England</td>\n",
       "      <td>15</td>\n",
       "      <td>1</td>\n",
       "      <td>69</td>\n",
       "      <td>29</td>\n",
       "      <td>21</td>\n",
       "      <td>19</td>\n",
       "      <td>91</td>\n",
       "      <td>64</td>\n",
       "      <td>27</td>\n",
       "      <td>108</td>\n",
       "    </tr>\n",
       "    <tr>\n",
       "      <th>6</th>\n",
       "      <td>7</td>\n",
       "      <td>Spain</td>\n",
       "      <td>15</td>\n",
       "      <td>1</td>\n",
       "      <td>63</td>\n",
       "      <td>30</td>\n",
       "      <td>15</td>\n",
       "      <td>18</td>\n",
       "      <td>99</td>\n",
       "      <td>72</td>\n",
       "      <td>27</td>\n",
       "      <td>105</td>\n",
       "    </tr>\n",
       "    <tr>\n",
       "      <th>7</th>\n",
       "      <td>8</td>\n",
       "      <td>Uruguay</td>\n",
       "      <td>13</td>\n",
       "      <td>2</td>\n",
       "      <td>56</td>\n",
       "      <td>24</td>\n",
       "      <td>12</td>\n",
       "      <td>20</td>\n",
       "      <td>87</td>\n",
       "      <td>74</td>\n",
       "      <td>13</td>\n",
       "      <td>84</td>\n",
       "    </tr>\n",
       "  </tbody>\n",
       "</table>\n",
       "</div>"
      ],
      "text/plain": [
       "   Rank         Team  Participations  Titles  Pld   W   D   L   GF   GA   GD  \\\n",
       "0     1       Brazil              21       5  109  73  18  18  229  105  124   \n",
       "1     2   Germany[a]              19       4  109  67  20  22  226  125  101   \n",
       "2     3        Italy              18       4   83  45  21  17  128   77   51   \n",
       "3     4    Argentina              17       2   81  43  15  23  137   93   44   \n",
       "4     5       France              15       2   66  34  13  19  120   77   43   \n",
       "5     6      England              15       1   69  29  21  19   91   64   27   \n",
       "6     7        Spain              15       1   63  30  15  18   99   72   27   \n",
       "7     8      Uruguay              13       2   56  24  12  20   87   74   13   \n",
       "\n",
       "   Pts  \n",
       "0  237  \n",
       "1  221  \n",
       "2  156  \n",
       "3  144  \n",
       "4  115  \n",
       "5  108  \n",
       "6  105  \n",
       "7   84  "
      ]
     },
     "execution_count": 36,
     "metadata": {},
     "output_type": "execute_result"
    }
   ],
   "source": [
    "fifa"
   ]
  },
  {
   "cell_type": "code",
   "execution_count": 38,
   "id": "6cdb8e5f-99e8-4f19-bcd8-cc6eb82ee88c",
   "metadata": {},
   "outputs": [
    {
     "data": {
      "text/plain": [
       "Text(0, 0.5, 'No of times won')"
      ]
     },
     "execution_count": 38,
     "metadata": {},
     "output_type": "execute_result"
    },
    {
     "data": {
      "image/png": "[encoded data removed]",
      "text/plain": [
       "<Figure size 640x480 with 1 Axes>"
      ]
     },
     "metadata": {},
     "output_type": "display_data"
    }
   ],
   "source": [
    "fifa[fifa['Titles']<4][['Team','D','L']].set_index('Team').plot(kind='bar',legend=True)\n",
    "plt.title(\"Teams that have won less than four times\")\n",
    "plt.xlabel(\"Name of teams\")\n",
    "\n",
    "plt.ylabel(\"No of times won\")\n"
   ]
  },
  {
   "cell_type": "code",
   "execution_count": 44,
   "id": "7b7f19f1-d135-429d-8955-ee39f1c268cc",
   "metadata": {},
   "outputs": [
    {
     "ename": "SyntaxError",
     "evalue": "unterminated string literal (detected at line 6) (3155907110.py, line 6)",
     "output_type": "error",
     "traceback": [
      "\u001b[1;36m  Cell \u001b[1;32mIn[44], line 6\u001b[1;36m\u001b[0m\n\u001b[1;33m    bar_labels=[\"draw\",\"loss]\u001b[0m\n\u001b[1;37m                       ^\u001b[0m\n\u001b[1;31mSyntaxError\u001b[0m\u001b[1;31m:\u001b[0m unterminated string literal (detected at line 6)\n"
     ]
    }
   ],
   "source": [
    "fifa[fifa['Titles']<4][['Team','D','L']].set_index('Team').plot(kind='bar')\n",
    "plt.title(\"Teams that have won less than four times\")\n",
    "plt.xlabel(\"Name of teams\")\n",
    "\n",
    "plt.ylabel(\"No of times won\")\n",
    "bar_labels=[\"draw\",\"loss]\n"
   ]
  },
  {
   "cell_type": "code",
   "execution_count": null,
   "id": "0664cde4-b11d-475d-a744-fe8250f0d9f5",
   "metadata": {},
   "outputs": [],
   "source": []
  }
 ],
 "metadata": {
  "kernelspec": {
   "display_name": "Python 3 (ipykernel)",
   "language": "python",
   "name": "python3"
  },
  "language_info": {
   "codemirror_mode": {
    "name": "ipython",
    "version": 3
   },
   "file_extension": ".py",
   "mimetype": "text/x-python",
   "name": "python",
   "nbconvert_exporter": "python",
   "pygments_lexer": "ipython3",
   "version": "3.10.8"
  }
 },
 "nbformat": 4,
 "nbformat_minor": 5
}
